{
 "cells": [
  {
   "cell_type": "markdown",
   "id": "e8a32a6f",
   "metadata": {
    "papermill": {
     "duration": 0.033044,
     "end_time": "2021-11-01T06:46:18.656871",
     "exception": false,
     "start_time": "2021-11-01T06:46:18.623827",
     "status": "completed"
    },
    "tags": []
   },
   "source": [
    "### Importing Libraries"
   ]
  },
  {
   "cell_type": "code",
   "execution_count": 1,
   "id": "0d773035",
   "metadata": {
    "execution": {
     "iopub.execute_input": "2021-11-01T06:46:18.730300Z",
     "iopub.status.busy": "2021-11-01T06:46:18.729338Z",
     "iopub.status.idle": "2021-11-01T06:46:24.070141Z",
     "shell.execute_reply": "2021-11-01T06:46:24.069525Z",
     "shell.execute_reply.started": "2021-11-01T06:40:36.802771Z"
    },
    "papermill": {
     "duration": 5.381529,
     "end_time": "2021-11-01T06:46:24.070301",
     "exception": false,
     "start_time": "2021-11-01T06:46:18.688772",
     "status": "completed"
    },
    "tags": []
   },
   "outputs": [],
   "source": [
    "import numpy as np \n",
    "import pandas as pd \n",
    "from matplotlib import pyplot\n",
    "import math\n",
    "from keras import callbacks\n",
    "from keras.models import Sequential\n",
    "from keras.layers import Dense\n",
    "from keras.layers import LSTM\n",
    "from sklearn.preprocessing import MinMaxScaler\n",
    "from sklearn.metrics import mean_absolute_error\n",
    "from sklearn.model_selection import train_test_split\n",
    "from sklearn.preprocessing import RobustScaler\n",
    "from tensorflow.keras.utils import plot_model"
   ]
  },
  {
   "cell_type": "markdown",
   "id": "eb8b33e2",
   "metadata": {
    "papermill": {
     "duration": 0.019493,
     "end_time": "2021-11-01T06:46:24.108688",
     "exception": false,
     "start_time": "2021-11-01T06:46:24.089195",
     "status": "completed"
    },
    "tags": []
   },
   "source": [
    "### Importing Data"
   ]
  },
  {
   "cell_type": "code",
   "execution_count": 2,
   "id": "df79e372",
   "metadata": {
    "execution": {
     "iopub.execute_input": "2021-11-01T06:46:24.150755Z",
     "iopub.status.busy": "2021-11-01T06:46:24.149924Z",
     "iopub.status.idle": "2021-11-01T06:46:35.965700Z",
     "shell.execute_reply": "2021-11-01T06:46:35.966243Z",
     "shell.execute_reply.started": "2021-11-01T06:15:47.571983Z"
    },
    "papermill": {
     "duration": 11.839354,
     "end_time": "2021-11-01T06:46:35.966392",
     "exception": false,
     "start_time": "2021-11-01T06:46:24.127038",
     "status": "completed"
    },
    "tags": []
   },
   "outputs": [
    {
     "data": {
      "text/html": [
       "<div>\n",
       "<style scoped>\n",
       "    .dataframe tbody tr th:only-of-type {\n",
       "        vertical-align: middle;\n",
       "    }\n",
       "\n",
       "    .dataframe tbody tr th {\n",
       "        vertical-align: top;\n",
       "    }\n",
       "\n",
       "    .dataframe thead th {\n",
       "        text-align: right;\n",
       "    }\n",
       "</style>\n",
       "<table border=\"1\" class=\"dataframe\">\n",
       "  <thead>\n",
       "    <tr style=\"text-align: right;\">\n",
       "      <th></th>\n",
       "      <th>breath_id</th>\n",
       "      <th>R</th>\n",
       "      <th>C</th>\n",
       "      <th>time_step</th>\n",
       "      <th>u_in</th>\n",
       "      <th>u_out</th>\n",
       "      <th>pressure</th>\n",
       "    </tr>\n",
       "  </thead>\n",
       "  <tbody>\n",
       "    <tr>\n",
       "      <th>0</th>\n",
       "      <td>1</td>\n",
       "      <td>20</td>\n",
       "      <td>50</td>\n",
       "      <td>0.000000</td>\n",
       "      <td>0.083334</td>\n",
       "      <td>0</td>\n",
       "      <td>5.837492</td>\n",
       "    </tr>\n",
       "    <tr>\n",
       "      <th>1</th>\n",
       "      <td>1</td>\n",
       "      <td>20</td>\n",
       "      <td>50</td>\n",
       "      <td>0.033652</td>\n",
       "      <td>18.383041</td>\n",
       "      <td>0</td>\n",
       "      <td>5.907794</td>\n",
       "    </tr>\n",
       "    <tr>\n",
       "      <th>2</th>\n",
       "      <td>1</td>\n",
       "      <td>20</td>\n",
       "      <td>50</td>\n",
       "      <td>0.067514</td>\n",
       "      <td>22.509278</td>\n",
       "      <td>0</td>\n",
       "      <td>7.876254</td>\n",
       "    </tr>\n",
       "    <tr>\n",
       "      <th>3</th>\n",
       "      <td>1</td>\n",
       "      <td>20</td>\n",
       "      <td>50</td>\n",
       "      <td>0.101542</td>\n",
       "      <td>22.808822</td>\n",
       "      <td>0</td>\n",
       "      <td>11.742872</td>\n",
       "    </tr>\n",
       "    <tr>\n",
       "      <th>4</th>\n",
       "      <td>1</td>\n",
       "      <td>20</td>\n",
       "      <td>50</td>\n",
       "      <td>0.135756</td>\n",
       "      <td>25.355850</td>\n",
       "      <td>0</td>\n",
       "      <td>12.234987</td>\n",
       "    </tr>\n",
       "  </tbody>\n",
       "</table>\n",
       "</div>"
      ],
      "text/plain": [
       "   breath_id   R   C  time_step       u_in  u_out   pressure\n",
       "0          1  20  50   0.000000   0.083334      0   5.837492\n",
       "1          1  20  50   0.033652  18.383041      0   5.907794\n",
       "2          1  20  50   0.067514  22.509278      0   7.876254\n",
       "3          1  20  50   0.101542  22.808822      0  11.742872\n",
       "4          1  20  50   0.135756  25.355850      0  12.234987"
      ]
     },
     "execution_count": 2,
     "metadata": {},
     "output_type": "execute_result"
    }
   ],
   "source": [
    "train = pd.read_csv(\"../input/ventilator-pressure-prediction/train.csv\")\n",
    "test = pd.read_csv(\"../input/ventilator-pressure-prediction/test.csv\")\n",
    "id = test['id']\n",
    "train = train.drop(columns=['id'])\n",
    "test = test.drop(columns=['id'])\n",
    "train.head()"
   ]
  },
  {
   "cell_type": "markdown",
   "id": "63a01d92",
   "metadata": {
    "papermill": {
     "duration": 0.019086,
     "end_time": "2021-11-01T06:46:36.005712",
     "exception": false,
     "start_time": "2021-11-01T06:46:35.986626",
     "status": "completed"
    },
    "tags": []
   },
   "source": [
    "### Checking for Features Datatype"
   ]
  },
  {
   "cell_type": "code",
   "execution_count": 3,
   "id": "999efe34",
   "metadata": {
    "execution": {
     "iopub.execute_input": "2021-11-01T06:46:36.048571Z",
     "iopub.status.busy": "2021-11-01T06:46:36.047831Z",
     "iopub.status.idle": "2021-11-01T06:46:36.050358Z",
     "shell.execute_reply": "2021-11-01T06:46:36.049916Z",
     "shell.execute_reply.started": "2021-11-01T06:16:01.052735Z"
    },
    "papermill": {
     "duration": 0.025866,
     "end_time": "2021-11-01T06:46:36.050473",
     "exception": false,
     "start_time": "2021-11-01T06:46:36.024607",
     "status": "completed"
    },
    "tags": []
   },
   "outputs": [],
   "source": [
    "def check(df):\n",
    "    categorical_data = []\n",
    "    numerical_data = []\n",
    "    for i in df.columns:\n",
    "        if df[i].value_counts().count() > 10:\n",
    "            numerical_data.append(i)\n",
    "        else:\n",
    "            categorical_data.append(i)\n",
    "    return([numerical_data,categorical_data])"
   ]
  },
  {
   "cell_type": "code",
   "execution_count": 4,
   "id": "8080f730",
   "metadata": {
    "execution": {
     "iopub.execute_input": "2021-11-01T06:46:36.149617Z",
     "iopub.status.busy": "2021-11-01T06:46:36.148643Z",
     "iopub.status.idle": "2021-11-01T06:46:38.538220Z",
     "shell.execute_reply": "2021-11-01T06:46:38.539030Z",
     "shell.execute_reply.started": "2021-11-01T06:16:01.061606Z"
    },
    "papermill": {
     "duration": 2.47009,
     "end_time": "2021-11-01T06:46:38.539342",
     "exception": false,
     "start_time": "2021-11-01T06:46:36.069252",
     "status": "completed"
    },
    "tags": []
   },
   "outputs": [
    {
     "name": "stdout",
     "output_type": "stream",
     "text": [
      "Numerical columns:  ['breath_id', 'time_step', 'u_in', 'pressure']\n",
      "Categorical columns:  ['R', 'C', 'u_out']\n"
     ]
    }
   ],
   "source": [
    "t = check(train)\n",
    "print(\"Numerical columns: \",t[0])\n",
    "print(\"Categorical columns: \",t[1])"
   ]
  },
  {
   "cell_type": "markdown",
   "id": "4f56dac9",
   "metadata": {
    "papermill": {
     "duration": 0.019505,
     "end_time": "2021-11-01T06:46:38.585438",
     "exception": false,
     "start_time": "2021-11-01T06:46:38.565933",
     "status": "completed"
    },
    "tags": []
   },
   "source": [
    "### Removing Pressure Feature's Outliers"
   ]
  },
  {
   "cell_type": "code",
   "execution_count": 5,
   "id": "74ff183c",
   "metadata": {
    "execution": {
     "iopub.execute_input": "2021-11-01T06:46:38.636995Z",
     "iopub.status.busy": "2021-11-01T06:46:38.636270Z",
     "iopub.status.idle": "2021-11-01T06:46:39.066301Z",
     "shell.execute_reply": "2021-11-01T06:46:39.065796Z",
     "shell.execute_reply.started": "2021-11-01T06:16:03.958703Z"
    },
    "papermill": {
     "duration": 0.46161,
     "end_time": "2021-11-01T06:46:39.066435",
     "exception": false,
     "start_time": "2021-11-01T06:46:38.604825",
     "status": "completed"
    },
    "tags": []
   },
   "outputs": [
    {
     "data": {
      "text/plain": [
       "breath_id    0\n",
       "R            0\n",
       "C            0\n",
       "time_step    0\n",
       "u_in         0\n",
       "u_out        0\n",
       "pressure     0\n",
       "dtype: int64"
      ]
     },
     "execution_count": 5,
     "metadata": {},
     "output_type": "execute_result"
    }
   ],
   "source": [
    "train['pressure'] = np.where(train['pressure'] < 0, np.nan, train['pressure'])\n",
    "train = train.dropna()\n",
    "train.isnull().sum()"
   ]
  },
  {
   "cell_type": "code",
   "execution_count": 6,
   "id": "7f5c12dc",
   "metadata": {
    "execution": {
     "iopub.execute_input": "2021-11-01T06:46:39.203697Z",
     "iopub.status.busy": "2021-11-01T06:46:39.202137Z",
     "iopub.status.idle": "2021-11-01T06:46:39.204318Z",
     "shell.execute_reply": "2021-11-01T06:46:39.204747Z",
     "shell.execute_reply.started": "2021-11-01T06:16:04.480055Z"
    },
    "papermill": {
     "duration": 0.11845,
     "end_time": "2021-11-01T06:46:39.204901",
     "exception": false,
     "start_time": "2021-11-01T06:46:39.086451",
     "status": "completed"
    },
    "tags": []
   },
   "outputs": [],
   "source": [
    "x_train = train.iloc[:,0:6]\n",
    "y_train = train.iloc[:,6]"
   ]
  },
  {
   "cell_type": "markdown",
   "id": "ed40e2fa",
   "metadata": {
    "papermill": {
     "duration": 0.019237,
     "end_time": "2021-11-01T06:46:39.243874",
     "exception": false,
     "start_time": "2021-11-01T06:46:39.224637",
     "status": "completed"
    },
    "tags": []
   },
   "source": [
    "### Editing Time Step"
   ]
  },
  {
   "cell_type": "code",
   "execution_count": 7,
   "id": "0c25a8d5",
   "metadata": {
    "execution": {
     "iopub.execute_input": "2021-11-01T06:46:39.288486Z",
     "iopub.status.busy": "2021-11-01T06:46:39.287749Z",
     "iopub.status.idle": "2021-11-01T06:46:39.452715Z",
     "shell.execute_reply": "2021-11-01T06:46:39.453171Z",
     "shell.execute_reply.started": "2021-11-01T06:16:04.588395Z"
    },
    "papermill": {
     "duration": 0.190036,
     "end_time": "2021-11-01T06:46:39.453329",
     "exception": false,
     "start_time": "2021-11-01T06:46:39.263293",
     "status": "completed"
    },
    "tags": []
   },
   "outputs": [
    {
     "data": {
      "text/html": [
       "<div>\n",
       "<style scoped>\n",
       "    .dataframe tbody tr th:only-of-type {\n",
       "        vertical-align: middle;\n",
       "    }\n",
       "\n",
       "    .dataframe tbody tr th {\n",
       "        vertical-align: top;\n",
       "    }\n",
       "\n",
       "    .dataframe thead th {\n",
       "        text-align: right;\n",
       "    }\n",
       "</style>\n",
       "<table border=\"1\" class=\"dataframe\">\n",
       "  <thead>\n",
       "    <tr style=\"text-align: right;\">\n",
       "      <th></th>\n",
       "      <th>breath_id</th>\n",
       "      <th>R</th>\n",
       "      <th>C</th>\n",
       "      <th>time_step</th>\n",
       "      <th>u_in</th>\n",
       "      <th>u_out</th>\n",
       "    </tr>\n",
       "  </thead>\n",
       "  <tbody>\n",
       "    <tr>\n",
       "      <th>0</th>\n",
       "      <td>1</td>\n",
       "      <td>20</td>\n",
       "      <td>50</td>\n",
       "      <td>0</td>\n",
       "      <td>0.083334</td>\n",
       "      <td>0</td>\n",
       "    </tr>\n",
       "    <tr>\n",
       "      <th>1</th>\n",
       "      <td>1</td>\n",
       "      <td>20</td>\n",
       "      <td>50</td>\n",
       "      <td>0</td>\n",
       "      <td>18.383041</td>\n",
       "      <td>0</td>\n",
       "    </tr>\n",
       "    <tr>\n",
       "      <th>2</th>\n",
       "      <td>1</td>\n",
       "      <td>20</td>\n",
       "      <td>50</td>\n",
       "      <td>0</td>\n",
       "      <td>22.509278</td>\n",
       "      <td>0</td>\n",
       "    </tr>\n",
       "    <tr>\n",
       "      <th>3</th>\n",
       "      <td>1</td>\n",
       "      <td>20</td>\n",
       "      <td>50</td>\n",
       "      <td>0</td>\n",
       "      <td>22.808822</td>\n",
       "      <td>0</td>\n",
       "    </tr>\n",
       "    <tr>\n",
       "      <th>4</th>\n",
       "      <td>1</td>\n",
       "      <td>20</td>\n",
       "      <td>50</td>\n",
       "      <td>0</td>\n",
       "      <td>25.355850</td>\n",
       "      <td>0</td>\n",
       "    </tr>\n",
       "  </tbody>\n",
       "</table>\n",
       "</div>"
      ],
      "text/plain": [
       "   breath_id   R   C  time_step       u_in  u_out\n",
       "0          1  20  50          0   0.083334      0\n",
       "1          1  20  50          0  18.383041      0\n",
       "2          1  20  50          0  22.509278      0\n",
       "3          1  20  50          0  22.808822      0\n",
       "4          1  20  50          0  25.355850      0"
      ]
     },
     "execution_count": 7,
     "metadata": {},
     "output_type": "execute_result"
    }
   ],
   "source": [
    "x_train['time_step'] = pd.cut(x=x_train['time_step'], bins=[-0.99, 0.5, 1, 1.5, 2, 2.5, 3], labels=[0,1,2,3,4,5])\n",
    "x_train['time_step'] = x_train['time_step'].astype('int64')\n",
    "x_train.head()"
   ]
  },
  {
   "cell_type": "code",
   "execution_count": 8,
   "id": "c285981e",
   "metadata": {
    "execution": {
     "iopub.execute_input": "2021-11-01T06:46:39.500582Z",
     "iopub.status.busy": "2021-11-01T06:46:39.499822Z",
     "iopub.status.idle": "2021-11-01T06:46:39.607969Z",
     "shell.execute_reply": "2021-11-01T06:46:39.608416Z",
     "shell.execute_reply.started": "2021-11-01T06:16:04.808807Z"
    },
    "papermill": {
     "duration": 0.135169,
     "end_time": "2021-11-01T06:46:39.608564",
     "exception": false,
     "start_time": "2021-11-01T06:46:39.473395",
     "status": "completed"
    },
    "tags": []
   },
   "outputs": [
    {
     "data": {
      "text/html": [
       "<div>\n",
       "<style scoped>\n",
       "    .dataframe tbody tr th:only-of-type {\n",
       "        vertical-align: middle;\n",
       "    }\n",
       "\n",
       "    .dataframe tbody tr th {\n",
       "        vertical-align: top;\n",
       "    }\n",
       "\n",
       "    .dataframe thead th {\n",
       "        text-align: right;\n",
       "    }\n",
       "</style>\n",
       "<table border=\"1\" class=\"dataframe\">\n",
       "  <thead>\n",
       "    <tr style=\"text-align: right;\">\n",
       "      <th></th>\n",
       "      <th>breath_id</th>\n",
       "      <th>R</th>\n",
       "      <th>C</th>\n",
       "      <th>time_step</th>\n",
       "      <th>u_in</th>\n",
       "      <th>u_out</th>\n",
       "    </tr>\n",
       "  </thead>\n",
       "  <tbody>\n",
       "    <tr>\n",
       "      <th>0</th>\n",
       "      <td>0</td>\n",
       "      <td>5</td>\n",
       "      <td>20</td>\n",
       "      <td>0</td>\n",
       "      <td>0.000000</td>\n",
       "      <td>0</td>\n",
       "    </tr>\n",
       "    <tr>\n",
       "      <th>1</th>\n",
       "      <td>0</td>\n",
       "      <td>5</td>\n",
       "      <td>20</td>\n",
       "      <td>0</td>\n",
       "      <td>7.515046</td>\n",
       "      <td>0</td>\n",
       "    </tr>\n",
       "    <tr>\n",
       "      <th>2</th>\n",
       "      <td>0</td>\n",
       "      <td>5</td>\n",
       "      <td>20</td>\n",
       "      <td>0</td>\n",
       "      <td>14.651675</td>\n",
       "      <td>0</td>\n",
       "    </tr>\n",
       "    <tr>\n",
       "      <th>3</th>\n",
       "      <td>0</td>\n",
       "      <td>5</td>\n",
       "      <td>20</td>\n",
       "      <td>0</td>\n",
       "      <td>21.230610</td>\n",
       "      <td>0</td>\n",
       "    </tr>\n",
       "    <tr>\n",
       "      <th>4</th>\n",
       "      <td>0</td>\n",
       "      <td>5</td>\n",
       "      <td>20</td>\n",
       "      <td>0</td>\n",
       "      <td>26.320956</td>\n",
       "      <td>0</td>\n",
       "    </tr>\n",
       "  </tbody>\n",
       "</table>\n",
       "</div>"
      ],
      "text/plain": [
       "   breath_id  R   C  time_step       u_in  u_out\n",
       "0          0  5  20          0   0.000000      0\n",
       "1          0  5  20          0   7.515046      0\n",
       "2          0  5  20          0  14.651675      0\n",
       "3          0  5  20          0  21.230610      0\n",
       "4          0  5  20          0  26.320956      0"
      ]
     },
     "execution_count": 8,
     "metadata": {},
     "output_type": "execute_result"
    }
   ],
   "source": [
    "test['time_step'] = pd.cut(x=test['time_step'], bins=[-0.99, 0.5, 1, 1.5, 2, 2.5, 3], labels=[0,1,2,3,4,5])\n",
    "test['time_step'] = test['time_step'].astype('int64')\n",
    "test.head()"
   ]
  },
  {
   "cell_type": "markdown",
   "id": "ee94bbd3",
   "metadata": {
    "papermill": {
     "duration": 0.019988,
     "end_time": "2021-11-01T06:46:39.649707",
     "exception": false,
     "start_time": "2021-11-01T06:46:39.629719",
     "status": "completed"
    },
    "tags": []
   },
   "source": [
    "### Adding Extra Features"
   ]
  },
  {
   "cell_type": "code",
   "execution_count": 9,
   "id": "0609fb0e",
   "metadata": {
    "execution": {
     "iopub.execute_input": "2021-11-01T06:46:39.717927Z",
     "iopub.status.busy": "2021-11-01T06:46:39.716288Z",
     "iopub.status.idle": "2021-11-01T06:46:39.718571Z",
     "shell.execute_reply": "2021-11-01T06:46:39.718966Z",
     "shell.execute_reply.started": "2021-11-01T06:16:04.927821Z"
    },
    "papermill": {
     "duration": 0.049045,
     "end_time": "2021-11-01T06:46:39.719121",
     "exception": false,
     "start_time": "2021-11-01T06:46:39.670076",
     "status": "completed"
    },
    "tags": []
   },
   "outputs": [],
   "source": [
    "def create_new_feat(df):\n",
    "    df['cross']= df['u_in'] * df['u_out']\n",
    "    df['cross2']= df['time_step'] * df['u_out']\n",
    "    df['area'] = df['time_step'] * df['u_in']\n",
    "    df['area'] = df.groupby('breath_id')['area'].cumsum()\n",
    "    df['time_step_cumsum'] = df.groupby(['breath_id'])['time_step'].cumsum()\n",
    "    df['u_in_cumsum'] = (df['u_in']).groupby(df['breath_id']).cumsum()\n",
    "    #print(\"Step-1...Completed\")\n",
    "    \n",
    "    df['u_in_lag1'] = df.groupby('breath_id')['u_in'].shift(1)\n",
    "    df['u_out_lag1'] = df.groupby('breath_id')['u_out'].shift(1)\n",
    "    df['u_in_lag_back1'] = df.groupby('breath_id')['u_in'].shift(-1)\n",
    "    df['u_out_lag_back1'] = df.groupby('breath_id')['u_out'].shift(-1)\n",
    "    df['u_in_lag2'] = df.groupby('breath_id')['u_in'].shift(2)\n",
    "    df['u_out_lag2'] = df.groupby('breath_id')['u_out'].shift(2)\n",
    "    df['u_in_lag_back2'] = df.groupby('breath_id')['u_in'].shift(-2)\n",
    "    df['u_out_lag_back2'] = df.groupby('breath_id')['u_out'].shift(-2)\n",
    "    df['u_in_lag3'] = df.groupby('breath_id')['u_in'].shift(3)\n",
    "    df['u_out_lag3'] = df.groupby('breath_id')['u_out'].shift(3)\n",
    "    df['u_in_lag_back3'] = df.groupby('breath_id')['u_in'].shift(-3)\n",
    "    df['u_out_lag_back3'] = df.groupby('breath_id')['u_out'].shift(-3)\n",
    "    df['u_in_lag4'] = df.groupby('breath_id')['u_in'].shift(4)\n",
    "    df['u_out_lag4'] = df.groupby('breath_id')['u_out'].shift(4)\n",
    "    df['u_in_lag_back4'] = df.groupby('breath_id')['u_in'].shift(-4)\n",
    "    df['u_out_lag_back4'] = df.groupby('breath_id')['u_out'].shift(-4)\n",
    "    df = df.fillna(0)\n",
    "    #print(\"Step-2...Completed\")\n",
    "    \n",
    "    df['breath_id__u_in__max'] = df.groupby(['breath_id'])['u_in'].transform('max')\n",
    "    df['breath_id__u_in__mean'] = df.groupby(['breath_id'])['u_in'].transform('mean')\n",
    "    df['breath_id__u_in__diffmax'] = df.groupby(['breath_id'])['u_in'].transform('max') - df['u_in']\n",
    "    df['breath_id__u_in__diffmean'] = df.groupby(['breath_id'])['u_in'].transform('mean') - df['u_in']\n",
    "    #print(\"Step-3...Completed\")\n",
    "    \n",
    "    df['u_in_diff1'] = df['u_in'] - df['u_in_lag1']\n",
    "    df['u_out_diff1'] = df['u_out'] - df['u_out_lag1']\n",
    "    df['u_in_diff2'] = df['u_in'] - df['u_in_lag2']\n",
    "    df['u_out_diff2'] = df['u_out'] - df['u_out_lag2']\n",
    "    df['u_in_diff3'] = df['u_in'] - df['u_in_lag3']\n",
    "    df['u_out_diff3'] = df['u_out'] - df['u_out_lag3']\n",
    "    df['u_in_diff4'] = df['u_in'] - df['u_in_lag4']\n",
    "    df['u_out_diff4'] = df['u_out'] - df['u_out_lag4']\n",
    "    #print(\"Step-4...Completed\")\n",
    "    \n",
    "    df['one'] = 1\n",
    "    df['count'] = (df['one']).groupby(df['breath_id']).cumsum()\n",
    "    df['u_in_cummean'] =df['u_in_cumsum'] /df['count']\n",
    "    \n",
    "    df['breath_id_lag']=df['breath_id'].shift(1).fillna(0)\n",
    "    df['breath_id_lag2']=df['breath_id'].shift(2).fillna(0)\n",
    "    df['breath_id_lagsame']=np.select([df['breath_id_lag']==df['breath_id']],[1],0)\n",
    "    df['breath_id_lag2same']=np.select([df['breath_id_lag2']==df['breath_id']],[1],0)\n",
    "    df['breath_id__u_in_lag'] = df['u_in'].shift(1).fillna(0)\n",
    "    df['breath_id__u_in_lag'] = df['breath_id__u_in_lag'] * df['breath_id_lagsame']\n",
    "    df['breath_id__u_in_lag2'] = df['u_in'].shift(2).fillna(0)\n",
    "    df['breath_id__u_in_lag2'] = df['breath_id__u_in_lag2'] * df['breath_id_lag2same']\n",
    "    #print(\"Step-5...Completed\")\n",
    "    \n",
    "    df['time_step_diff'] = df.groupby('breath_id')['time_step'].diff().fillna(0)\n",
    "    df['ewm_u_in_mean'] = (df\\\n",
    "                           .groupby('breath_id')['u_in']\\\n",
    "                           .ewm(halflife=9)\\\n",
    "                           .mean()\\\n",
    "                           .reset_index(level=0,drop=True))\n",
    "    df[[\"15_in_sum\",\"15_in_min\",\"15_in_max\",\"15_in_mean\"]] = (df\\\n",
    "                                                              .groupby('breath_id')['u_in']\\\n",
    "                                                              .rolling(window=15,min_periods=1)\\\n",
    "                                                              .agg({\"15_in_sum\":\"sum\",\n",
    "                                                                    \"15_in_min\":\"min\",\n",
    "                                                                    \"15_in_max\":\"max\",\n",
    "                                                                    \"15_in_mean\":\"mean\"})\\\n",
    "                                                               .reset_index(level=0,drop=True))\n",
    "    #print(\"Step-6...Completed\")\n",
    "    \n",
    "    df['u_in_lagback_diff1'] = df['u_in'] - df['u_in_lag_back1']\n",
    "    df['u_out_lagback_diff1'] = df['u_out'] - df['u_out_lag_back1']\n",
    "    df['u_in_lagback_diff2'] = df['u_in'] - df['u_in_lag_back2']\n",
    "    df['u_out_lagback_diff2'] = df['u_out'] - df['u_out_lag_back2']\n",
    "    #print(\"Step-7...Completed\")\n",
    "    \n",
    "    df['R'] = df['R'].astype(str)\n",
    "    df['C'] = df['C'].astype(str)\n",
    "    df['R__C'] = df[\"R\"].astype(str) + '__' + df[\"C\"].astype(str)\n",
    "    df = pd.get_dummies(df)\n",
    "    #print(\"Step-8...Completed\")\n",
    "    \n",
    "    return df"
   ]
  },
  {
   "cell_type": "code",
   "execution_count": 10,
   "id": "4afd5114",
   "metadata": {
    "execution": {
     "iopub.execute_input": "2021-11-01T06:46:39.770981Z",
     "iopub.status.busy": "2021-11-01T06:46:39.770035Z",
     "iopub.status.idle": "2021-11-01T06:48:43.624543Z",
     "shell.execute_reply": "2021-11-01T06:48:43.625462Z",
     "shell.execute_reply.started": "2021-11-01T06:16:04.951162Z"
    },
    "papermill": {
     "duration": 123.88668,
     "end_time": "2021-11-01T06:48:43.625669",
     "exception": false,
     "start_time": "2021-11-01T06:46:39.738989",
     "status": "completed"
    },
    "tags": []
   },
   "outputs": [],
   "source": [
    "x_train = create_new_feat(x_train)\n",
    "#x_train = x_train.fillna(x_train.min())\n",
    "\n",
    "test = create_new_feat(test)\n",
    "#test = test.fillna(test.min())"
   ]
  },
  {
   "cell_type": "code",
   "execution_count": 11,
   "id": "5117a56b",
   "metadata": {
    "execution": {
     "iopub.execute_input": "2021-11-01T06:48:43.717492Z",
     "iopub.status.busy": "2021-11-01T06:48:43.715289Z",
     "iopub.status.idle": "2021-11-01T06:49:09.453673Z",
     "shell.execute_reply": "2021-11-01T06:49:09.454361Z",
     "shell.execute_reply.started": "2021-11-01T06:17:47.881436Z"
    },
    "papermill": {
     "duration": 25.783307,
     "end_time": "2021-11-01T06:49:09.454568",
     "exception": false,
     "start_time": "2021-11-01T06:48:43.671261",
     "status": "completed"
    },
    "tags": []
   },
   "outputs": [
    {
     "name": "stdout",
     "output_type": "stream",
     "text": [
      "Numerical columns:  ['breath_id', 'u_in', 'cross', 'area', 'time_step_cumsum', 'u_in_cumsum', 'u_in_lag1', 'u_in_lag_back1', 'u_in_lag2', 'u_in_lag_back2', 'u_in_lag3', 'u_in_lag_back3', 'u_in_lag4', 'u_in_lag_back4', 'breath_id__u_in__max', 'breath_id__u_in__mean', 'breath_id__u_in__diffmax', 'breath_id__u_in__diffmean', 'u_in_diff1', 'u_in_diff2', 'u_in_diff3', 'u_in_diff4', 'count', 'u_in_cummean', 'breath_id_lag', 'breath_id_lag2', 'breath_id__u_in_lag', 'breath_id__u_in_lag2', 'ewm_u_in_mean', '15_in_sum', '15_in_min', '15_in_max', '15_in_mean', 'u_in_lagback_diff1', 'u_in_lagback_diff2']\n",
      "\n",
      "Categorical columns:  ['time_step', 'u_out', 'cross2', 'u_out_lag1', 'u_out_lag_back1', 'u_out_lag2', 'u_out_lag_back2', 'u_out_lag3', 'u_out_lag_back3', 'u_out_lag4', 'u_out_lag_back4', 'u_out_diff1', 'u_out_diff2', 'u_out_diff3', 'u_out_diff4', 'one', 'breath_id_lagsame', 'breath_id_lag2same', 'time_step_diff', 'u_out_lagback_diff1', 'u_out_lagback_diff2', 'R_20', 'R_5', 'R_50', 'C_10', 'C_20', 'C_50', 'R__C_20__10', 'R__C_20__20', 'R__C_20__50', 'R__C_50__10', 'R__C_50__20', 'R__C_50__50', 'R__C_5__10', 'R__C_5__20', 'R__C_5__50']\n"
     ]
    }
   ],
   "source": [
    "t = check(x_train)\n",
    "print(\"Numerical columns: \",t[0])\n",
    "print(\"\\nCategorical columns: \",t[1])"
   ]
  },
  {
   "cell_type": "code",
   "execution_count": 12,
   "id": "7346138a",
   "metadata": {
    "execution": {
     "iopub.execute_input": "2021-11-01T06:49:09.501935Z",
     "iopub.status.busy": "2021-11-01T06:49:09.500797Z",
     "iopub.status.idle": "2021-11-01T06:49:14.279512Z",
     "shell.execute_reply": "2021-11-01T06:49:14.278870Z",
     "shell.execute_reply.started": "2021-11-01T06:18:17.575512Z"
    },
    "papermill": {
     "duration": 4.804372,
     "end_time": "2021-11-01T06:49:14.279680",
     "exception": false,
     "start_time": "2021-11-01T06:49:09.475308",
     "status": "completed"
    },
    "tags": []
   },
   "outputs": [
    {
     "name": "stdout",
     "output_type": "stream",
     "text": [
      "Train: (6032287, 64) \n",
      "Test: (4024000, 64)\n"
     ]
    }
   ],
   "source": [
    "x_train = x_train.drop(['breath_id','one','count','breath_id_lag','breath_id_lag2','breath_id_lagsame','breath_id_lag2same'],axis=1)\n",
    "\n",
    "test = test.drop(['breath_id','one','count','breath_id_lag','breath_id_lag2','breath_id_lagsame','breath_id_lag2same'],axis=1)\n",
    "\n",
    "print(f\"Train: {x_train.shape} \\nTest: {test.shape}\")"
   ]
  },
  {
   "cell_type": "markdown",
   "id": "97e2aa23",
   "metadata": {
    "papermill": {
     "duration": 0.020717,
     "end_time": "2021-11-01T06:49:14.322232",
     "exception": false,
     "start_time": "2021-11-01T06:49:14.301515",
     "status": "completed"
    },
    "tags": []
   },
   "source": [
    "### Normalize the Data using Min Max Scalar"
   ]
  },
  {
   "cell_type": "code",
   "execution_count": 13,
   "id": "1df9175e",
   "metadata": {
    "execution": {
     "iopub.execute_input": "2021-11-01T06:49:14.371012Z",
     "iopub.status.busy": "2021-11-01T06:49:14.370011Z",
     "iopub.status.idle": "2021-11-01T06:49:32.384319Z",
     "shell.execute_reply": "2021-11-01T06:49:32.383797Z",
     "shell.execute_reply.started": "2021-11-01T06:18:22.373118Z"
    },
    "papermill": {
     "duration": 18.04162,
     "end_time": "2021-11-01T06:49:32.384468",
     "exception": false,
     "start_time": "2021-11-01T06:49:14.342848",
     "status": "completed"
    },
    "tags": []
   },
   "outputs": [],
   "source": [
    "scaler1 = RobustScaler()\n",
    "scaler2 = RobustScaler()\n",
    "scaler3 = RobustScaler()\n",
    "\n",
    "x_train = scaler1.fit_transform(x_train)\n",
    "test = scaler3.fit_transform(test)\n",
    "y_train = scaler2.fit_transform(y_train.values.reshape(-1,1))"
   ]
  },
  {
   "cell_type": "code",
   "execution_count": 14,
   "id": "3b43caa3",
   "metadata": {
    "execution": {
     "iopub.execute_input": "2021-11-01T06:49:32.431475Z",
     "iopub.status.busy": "2021-11-01T06:49:32.430659Z",
     "iopub.status.idle": "2021-11-01T06:49:32.432465Z",
     "shell.execute_reply": "2021-11-01T06:49:32.432872Z",
     "shell.execute_reply.started": "2021-11-01T06:18:40.523070Z"
    },
    "papermill": {
     "duration": 0.02731,
     "end_time": "2021-11-01T06:49:32.432995",
     "exception": false,
     "start_time": "2021-11-01T06:49:32.405685",
     "status": "completed"
    },
    "tags": []
   },
   "outputs": [],
   "source": [
    "x_train = x_train.reshape(-1,1,64)\n",
    "test = test.reshape(-1,1,64)\n",
    "y_train = y_train.reshape(-1,1,1)"
   ]
  },
  {
   "cell_type": "markdown",
   "id": "0825408a",
   "metadata": {
    "papermill": {
     "duration": 0.020634,
     "end_time": "2021-11-01T06:49:32.474663",
     "exception": false,
     "start_time": "2021-11-01T06:49:32.454029",
     "status": "completed"
    },
    "tags": []
   },
   "source": [
    "### Create and fit the LSTM network"
   ]
  },
  {
   "cell_type": "code",
   "execution_count": 15,
   "id": "e2b63bf0",
   "metadata": {
    "execution": {
     "iopub.execute_input": "2021-11-01T06:49:32.521366Z",
     "iopub.status.busy": "2021-11-01T06:49:32.520808Z",
     "iopub.status.idle": "2021-11-01T06:49:35.184786Z",
     "shell.execute_reply": "2021-11-01T06:49:35.183867Z",
     "shell.execute_reply.started": "2021-11-01T06:29:11.738725Z"
    },
    "papermill": {
     "duration": 2.68969,
     "end_time": "2021-11-01T06:49:35.184947",
     "exception": false,
     "start_time": "2021-11-01T06:49:32.495257",
     "status": "completed"
    },
    "tags": []
   },
   "outputs": [
    {
     "name": "stderr",
     "output_type": "stream",
     "text": [
      "2021-11-01 06:49:32.604267: I tensorflow/stream_executor/cuda/cuda_gpu_executor.cc:937] successful NUMA node read from SysFS had negative value (-1), but there must be at least one NUMA node, so returning NUMA node zero\n",
      "2021-11-01 06:49:32.713927: I tensorflow/stream_executor/cuda/cuda_gpu_executor.cc:937] successful NUMA node read from SysFS had negative value (-1), but there must be at least one NUMA node, so returning NUMA node zero\n",
      "2021-11-01 06:49:32.714617: I tensorflow/stream_executor/cuda/cuda_gpu_executor.cc:937] successful NUMA node read from SysFS had negative value (-1), but there must be at least one NUMA node, so returning NUMA node zero\n",
      "2021-11-01 06:49:32.716907: I tensorflow/core/platform/cpu_feature_guard.cc:142] This TensorFlow binary is optimized with oneAPI Deep Neural Network Library (oneDNN) to use the following CPU instructions in performance-critical operations:  AVX2 AVX512F FMA\n",
      "To enable them in other operations, rebuild TensorFlow with the appropriate compiler flags.\n",
      "2021-11-01 06:49:32.717218: I tensorflow/stream_executor/cuda/cuda_gpu_executor.cc:937] successful NUMA node read from SysFS had negative value (-1), but there must be at least one NUMA node, so returning NUMA node zero\n",
      "2021-11-01 06:49:32.717880: I tensorflow/stream_executor/cuda/cuda_gpu_executor.cc:937] successful NUMA node read from SysFS had negative value (-1), but there must be at least one NUMA node, so returning NUMA node zero\n",
      "2021-11-01 06:49:32.718533: I tensorflow/stream_executor/cuda/cuda_gpu_executor.cc:937] successful NUMA node read from SysFS had negative value (-1), but there must be at least one NUMA node, so returning NUMA node zero\n",
      "2021-11-01 06:49:34.357892: I tensorflow/stream_executor/cuda/cuda_gpu_executor.cc:937] successful NUMA node read from SysFS had negative value (-1), but there must be at least one NUMA node, so returning NUMA node zero\n",
      "2021-11-01 06:49:34.358782: I tensorflow/stream_executor/cuda/cuda_gpu_executor.cc:937] successful NUMA node read from SysFS had negative value (-1), but there must be at least one NUMA node, so returning NUMA node zero\n",
      "2021-11-01 06:49:34.359504: I tensorflow/stream_executor/cuda/cuda_gpu_executor.cc:937] successful NUMA node read from SysFS had negative value (-1), but there must be at least one NUMA node, so returning NUMA node zero\n",
      "2021-11-01 06:49:34.360860: I tensorflow/core/common_runtime/gpu/gpu_device.cc:1510] Created device /job:localhost/replica:0/task:0/device:GPU:0 with 15403 MB memory:  -> device: 0, name: Tesla P100-PCIE-16GB, pci bus id: 0000:00:04.0, compute capability: 6.0\n"
     ]
    },
    {
     "name": "stdout",
     "output_type": "stream",
     "text": [
      "Model: \"sequential\"\n",
      "_________________________________________________________________\n",
      "Layer (type)                 Output Shape              Param #   \n",
      "=================================================================\n",
      "lstm (LSTM)                  (None, 1, 150)            129000    \n",
      "_________________________________________________________________\n",
      "lstm_1 (LSTM)                (None, 1, 100)            100400    \n",
      "_________________________________________________________________\n",
      "lstm_2 (LSTM)                (None, 1, 64)             42240     \n",
      "_________________________________________________________________\n",
      "dense (Dense)                (None, 1, 16)             1040      \n",
      "_________________________________________________________________\n",
      "dense_1 (Dense)              (None, 1, 1)              17        \n",
      "=================================================================\n",
      "Total params: 272,697\n",
      "Trainable params: 272,697\n",
      "Non-trainable params: 0\n",
      "_________________________________________________________________\n"
     ]
    }
   ],
   "source": [
    "model = Sequential()\n",
    "model.add(LSTM(150,input_shape=(1,64),return_sequences=True))\n",
    "model.add(LSTM(100,return_sequences=True,input_shape=(1,64)))\n",
    "model.add(LSTM(64,return_sequences=True))\n",
    "model.add(Dense(16,activation='selu'))\n",
    "model.add(Dense(1))\n",
    "model.summary()\n",
    "\n",
    "model.compile(loss='mae',optimizer='adam')"
   ]
  },
  {
   "cell_type": "code",
   "execution_count": 16,
   "id": "93515960",
   "metadata": {
    "execution": {
     "iopub.execute_input": "2021-11-01T06:49:35.235192Z",
     "iopub.status.busy": "2021-11-01T06:49:35.234248Z",
     "iopub.status.idle": "2021-11-01T07:54:05.648913Z",
     "shell.execute_reply": "2021-11-01T07:54:05.648417Z",
     "shell.execute_reply.started": "2021-11-01T06:43:10.913323Z"
    },
    "papermill": {
     "duration": 3870.441871,
     "end_time": "2021-11-01T07:54:05.649042",
     "exception": false,
     "start_time": "2021-11-01T06:49:35.207171",
     "status": "completed"
    },
    "tags": []
   },
   "outputs": [
    {
     "name": "stderr",
     "output_type": "stream",
     "text": [
      "2021-11-01 06:49:36.990868: W tensorflow/core/framework/cpu_allocator_impl.cc:80] Allocation of 1544265472 exceeds 10% of free system memory.\n",
      "2021-11-01 06:49:38.552132: W tensorflow/core/framework/cpu_allocator_impl.cc:80] Allocation of 1544265472 exceeds 10% of free system memory.\n",
      "2021-11-01 06:49:39.811549: I tensorflow/compiler/mlir/mlir_graph_optimization_pass.cc:185] None of the MLIR Optimization Passes are enabled (registered 2)\n"
     ]
    },
    {
     "name": "stdout",
     "output_type": "stream",
     "text": [
      "Epoch 1/50\n"
     ]
    },
    {
     "name": "stderr",
     "output_type": "stream",
     "text": [
      "2021-11-01 06:49:44.055617: I tensorflow/stream_executor/cuda/cuda_dnn.cc:369] Loaded cuDNN version 8005\n"
     ]
    },
    {
     "name": "stdout",
     "output_type": "stream",
     "text": [
      "11782/11782 [==============================] - 81s 6ms/step - loss: 0.1086\n",
      "Epoch 2/50\n",
      "11782/11782 [==============================] - 75s 6ms/step - loss: 0.0872\n",
      "Epoch 3/50\n",
      "11782/11782 [==============================] - 75s 6ms/step - loss: 0.0796\n",
      "Epoch 4/50\n",
      "11782/11782 [==============================] - 76s 6ms/step - loss: 0.0748\n",
      "Epoch 5/50\n",
      "11782/11782 [==============================] - 77s 7ms/step - loss: 0.0716\n",
      "Epoch 6/50\n",
      "11782/11782 [==============================] - 76s 6ms/step - loss: 0.0691\n",
      "Epoch 7/50\n",
      "11782/11782 [==============================] - 78s 7ms/step - loss: 0.0670\n",
      "Epoch 8/50\n",
      "11782/11782 [==============================] - 79s 7ms/step - loss: 0.0654\n",
      "Epoch 9/50\n",
      "11782/11782 [==============================] - 79s 7ms/step - loss: 0.0640\n",
      "Epoch 10/50\n",
      "11782/11782 [==============================] - 79s 7ms/step - loss: 0.0628\n",
      "Epoch 11/50\n",
      "11782/11782 [==============================] - 77s 7ms/step - loss: 0.0619\n",
      "Epoch 12/50\n",
      "11782/11782 [==============================] - 77s 7ms/step - loss: 0.0609\n",
      "Epoch 13/50\n",
      "11782/11782 [==============================] - 77s 7ms/step - loss: 0.0601\n",
      "Epoch 14/50\n",
      "11782/11782 [==============================] - 80s 7ms/step - loss: 0.0594\n",
      "Epoch 15/50\n",
      "11782/11782 [==============================] - 81s 7ms/step - loss: 0.0588\n",
      "Epoch 16/50\n",
      "11782/11782 [==============================] - 77s 7ms/step - loss: 0.0581\n",
      "Epoch 17/50\n",
      "11782/11782 [==============================] - 77s 7ms/step - loss: 0.0576\n",
      "Epoch 18/50\n",
      "11782/11782 [==============================] - 79s 7ms/step - loss: 0.0571\n",
      "Epoch 19/50\n",
      "11782/11782 [==============================] - 78s 7ms/step - loss: 0.0566\n",
      "Epoch 20/50\n",
      "11782/11782 [==============================] - 74s 6ms/step - loss: 0.0563\n",
      "Epoch 21/50\n",
      "11782/11782 [==============================] - 78s 7ms/step - loss: 0.0558\n",
      "Epoch 22/50\n",
      "11782/11782 [==============================] - 74s 6ms/step - loss: 0.0555\n",
      "Epoch 23/50\n",
      "11782/11782 [==============================] - 80s 7ms/step - loss: 0.0551\n",
      "Epoch 24/50\n",
      "11782/11782 [==============================] - 75s 6ms/step - loss: 0.0549\n",
      "Epoch 25/50\n",
      "11782/11782 [==============================] - 79s 7ms/step - loss: 0.0546\n",
      "Epoch 26/50\n",
      "11782/11782 [==============================] - 79s 7ms/step - loss: 0.0543\n",
      "Epoch 27/50\n",
      "11782/11782 [==============================] - 74s 6ms/step - loss: 0.0542\n",
      "Epoch 28/50\n",
      "11782/11782 [==============================] - 80s 7ms/step - loss: 0.0539\n",
      "Epoch 29/50\n",
      "11782/11782 [==============================] - 73s 6ms/step - loss: 0.0537\n",
      "Epoch 30/50\n",
      "11782/11782 [==============================] - 80s 7ms/step - loss: 0.0535\n",
      "Epoch 31/50\n",
      "11782/11782 [==============================] - 74s 6ms/step - loss: 0.0533\n",
      "Epoch 32/50\n",
      "11782/11782 [==============================] - 81s 7ms/step - loss: 0.0532\n",
      "Epoch 33/50\n",
      "11782/11782 [==============================] - 73s 6ms/step - loss: 0.0530\n",
      "Epoch 34/50\n",
      "11782/11782 [==============================] - 82s 7ms/step - loss: 0.0529\n",
      "Epoch 35/50\n",
      "11782/11782 [==============================] - 73s 6ms/step - loss: 0.0527\n",
      "Epoch 36/50\n",
      "11782/11782 [==============================] - 83s 7ms/step - loss: 0.0525\n",
      "Epoch 37/50\n",
      "11782/11782 [==============================] - 73s 6ms/step - loss: 0.0523\n",
      "Epoch 38/50\n",
      "11782/11782 [==============================] - 73s 6ms/step - loss: 0.0523\n",
      "Epoch 39/50\n",
      "11782/11782 [==============================] - 82s 7ms/step - loss: 0.0522\n",
      "Epoch 40/50\n",
      "11782/11782 [==============================] - 75s 6ms/step - loss: 0.0520\n",
      "Epoch 41/50\n",
      "11782/11782 [==============================] - 73s 6ms/step - loss: 0.0519\n",
      "Epoch 42/50\n",
      "11782/11782 [==============================] - 73s 6ms/step - loss: 0.0518\n",
      "Epoch 43/50\n",
      "11782/11782 [==============================] - 86s 7ms/step - loss: 0.0517\n",
      "Epoch 44/50\n",
      "11782/11782 [==============================] - 73s 6ms/step - loss: 0.0515\n",
      "Epoch 45/50\n",
      "11782/11782 [==============================] - 73s 6ms/step - loss: 0.0515\n",
      "Epoch 46/50\n",
      "11782/11782 [==============================] - 77s 7ms/step - loss: 0.0513\n",
      "Epoch 47/50\n",
      "11782/11782 [==============================] - 83s 7ms/step - loss: 0.0513\n",
      "Epoch 48/50\n",
      "11782/11782 [==============================] - 74s 6ms/step - loss: 0.0512\n",
      "Epoch 49/50\n",
      "11782/11782 [==============================] - 73s 6ms/step - loss: 0.0511\n",
      "Epoch 50/50\n",
      "11782/11782 [==============================] - 86s 7ms/step - loss: 0.0510\n"
     ]
    },
    {
     "data": {
      "text/plain": [
       "<keras.callbacks.History at 0x7f7ad2493f90>"
      ]
     },
     "execution_count": 16,
     "metadata": {},
     "output_type": "execute_result"
    }
   ],
   "source": [
    "#epoch=300\n",
    "earlystopping = callbacks.EarlyStopping(monitor =\"val_loss\",mode =\"min\",patience = 3,restore_best_weights = True)\n",
    "model.fit(x_train,y_train,epochs = 50,batch_size = 512,callbacks =[earlystopping])"
   ]
  },
  {
   "cell_type": "code",
   "execution_count": 17,
   "id": "6d7bae5f",
   "metadata": {
    "execution": {
     "iopub.execute_input": "2021-11-01T07:54:45.292079Z",
     "iopub.status.busy": "2021-11-01T07:54:45.291208Z",
     "iopub.status.idle": "2021-11-01T08:00:10.581709Z",
     "shell.execute_reply": "2021-11-01T08:00:10.582246Z",
     "shell.execute_reply.started": "2021-11-01T06:33:05.561609Z"
    },
    "papermill": {
     "duration": 345.130216,
     "end_time": "2021-11-01T08:00:10.582459",
     "exception": false,
     "start_time": "2021-11-01T07:54:25.452243",
     "status": "completed"
    },
    "tags": []
   },
   "outputs": [
    {
     "name": "stderr",
     "output_type": "stream",
     "text": [
      "2021-11-01 07:54:46.057945: W tensorflow/core/framework/cpu_allocator_impl.cc:80] Allocation of 1030144000 exceeds 10% of free system memory.\n",
      "2021-11-01 07:54:47.092689: W tensorflow/core/framework/cpu_allocator_impl.cc:80] Allocation of 1030144000 exceeds 10% of free system memory.\n"
     ]
    }
   ],
   "source": [
    "y_test = model.predict(test)"
   ]
  },
  {
   "cell_type": "code",
   "execution_count": 18,
   "id": "9fcd7f9e",
   "metadata": {
    "execution": {
     "iopub.execute_input": "2021-11-01T08:00:50.468877Z",
     "iopub.status.busy": "2021-11-01T08:00:50.467987Z",
     "iopub.status.idle": "2021-11-01T08:00:50.486041Z",
     "shell.execute_reply": "2021-11-01T08:00:50.485615Z",
     "shell.execute_reply.started": "2021-11-01T06:39:11.483175Z"
    },
    "papermill": {
     "duration": 20.009933,
     "end_time": "2021-11-01T08:00:50.486205",
     "exception": false,
     "start_time": "2021-11-01T08:00:30.476272",
     "status": "completed"
    },
    "tags": []
   },
   "outputs": [
    {
     "data": {
      "text/plain": [
       "(4024000, 1, 1)"
      ]
     },
     "execution_count": 18,
     "metadata": {},
     "output_type": "execute_result"
    }
   ],
   "source": [
    "test_y = scaler2.inverse_transform(y_test.reshape(-1,1))\n",
    "y_test.shape"
   ]
  },
  {
   "cell_type": "code",
   "execution_count": 19,
   "id": "48e85f32",
   "metadata": {
    "execution": {
     "iopub.execute_input": "2021-11-01T08:01:29.520531Z",
     "iopub.status.busy": "2021-11-01T08:01:29.519263Z",
     "iopub.status.idle": "2021-11-01T08:01:29.522953Z",
     "shell.execute_reply": "2021-11-01T08:01:29.522506Z",
     "shell.execute_reply.started": "2021-11-01T06:39:31.578266Z"
    },
    "papermill": {
     "duration": 19.561223,
     "end_time": "2021-11-01T08:01:29.523087",
     "exception": false,
     "start_time": "2021-11-01T08:01:09.961864",
     "status": "completed"
    },
    "tags": []
   },
   "outputs": [
    {
     "data": {
      "text/plain": [
       "(6032287, 1, 1)"
      ]
     },
     "execution_count": 19,
     "metadata": {},
     "output_type": "execute_result"
    }
   ],
   "source": [
    "y_train.shape"
   ]
  },
  {
   "cell_type": "code",
   "execution_count": 20,
   "id": "ad388df3",
   "metadata": {
    "execution": {
     "iopub.execute_input": "2021-11-01T08:02:08.864758Z",
     "iopub.status.busy": "2021-11-01T08:02:08.860983Z",
     "iopub.status.idle": "2021-11-01T08:02:09.774633Z",
     "shell.execute_reply": "2021-11-01T08:02:09.774133Z",
     "shell.execute_reply.started": "2021-11-01T06:40:45.054079Z"
    },
    "papermill": {
     "duration": 20.632304,
     "end_time": "2021-11-01T08:02:09.774771",
     "exception": false,
     "start_time": "2021-11-01T08:01:49.142467",
     "status": "completed"
    },
    "tags": []
   },
   "outputs": [
    {
     "data": {
      "image/png": "[encoded data removed]",
      "text/plain": [
       "<IPython.core.display.Image object>"
      ]
     },
     "execution_count": 20,
     "metadata": {},
     "output_type": "execute_result"
    }
   ],
   "source": [
    "plot_model(\n",
    "    model, \n",
    "    to_file='Model.png', \n",
    "    show_shapes=True,\n",
    "    show_layer_names=True\n",
    ")"
   ]
  },
  {
   "cell_type": "code",
   "execution_count": 21,
   "id": "ece7fc95",
   "metadata": {
    "execution": {
     "iopub.execute_input": "2021-11-01T08:02:49.023532Z",
     "iopub.status.busy": "2021-11-01T08:02:49.022313Z",
     "iopub.status.idle": "2021-11-01T08:02:59.509388Z",
     "shell.execute_reply": "2021-11-01T08:02:59.508862Z",
     "shell.execute_reply.started": "2021-11-01T06:41:08.903309Z"
    },
    "papermill": {
     "duration": 29.976835,
     "end_time": "2021-11-01T08:02:59.509538",
     "exception": false,
     "start_time": "2021-11-01T08:02:29.532703",
     "status": "completed"
    },
    "tags": []
   },
   "outputs": [],
   "source": [
    "prediction = pd.concat([id,pd.DataFrame(test_y)],axis=1)\n",
    "prediction.columns=['id','pressure']\n",
    "prediction.to_csv(\"Keras_Ann.csv\",index=False)"
   ]
  },
  {
   "cell_type": "code",
   "execution_count": 22,
   "id": "3a789731",
   "metadata": {
    "execution": {
     "iopub.execute_input": "2021-11-01T08:03:38.681736Z",
     "iopub.status.busy": "2021-11-01T08:03:38.680004Z",
     "iopub.status.idle": "2021-11-01T08:03:38.683952Z",
     "shell.execute_reply": "2021-11-01T08:03:38.683511Z",
     "shell.execute_reply.started": "2021-11-01T06:42:46.693318Z"
    },
    "papermill": {
     "duration": 19.97257,
     "end_time": "2021-11-01T08:03:38.684079",
     "exception": false,
     "start_time": "2021-11-01T08:03:18.711509",
     "status": "completed"
    },
    "tags": []
   },
   "outputs": [
    {
     "data": {
      "text/html": [
       "<div>\n",
       "<style scoped>\n",
       "    .dataframe tbody tr th:only-of-type {\n",
       "        vertical-align: middle;\n",
       "    }\n",
       "\n",
       "    .dataframe tbody tr th {\n",
       "        vertical-align: top;\n",
       "    }\n",
       "\n",
       "    .dataframe thead th {\n",
       "        text-align: right;\n",
       "    }\n",
       "</style>\n",
       "<table border=\"1\" class=\"dataframe\">\n",
       "  <thead>\n",
       "    <tr style=\"text-align: right;\">\n",
       "      <th></th>\n",
       "      <th>id</th>\n",
       "      <th>pressure</th>\n",
       "    </tr>\n",
       "  </thead>\n",
       "  <tbody>\n",
       "    <tr>\n",
       "      <th>0</th>\n",
       "      <td>1</td>\n",
       "      <td>6.085704</td>\n",
       "    </tr>\n",
       "    <tr>\n",
       "      <th>1</th>\n",
       "      <td>2</td>\n",
       "      <td>6.132731</td>\n",
       "    </tr>\n",
       "    <tr>\n",
       "      <th>2</th>\n",
       "      <td>3</td>\n",
       "      <td>6.970800</td>\n",
       "    </tr>\n",
       "    <tr>\n",
       "      <th>3</th>\n",
       "      <td>4</td>\n",
       "      <td>7.982039</td>\n",
       "    </tr>\n",
       "    <tr>\n",
       "      <th>4</th>\n",
       "      <td>5</td>\n",
       "      <td>9.076621</td>\n",
       "    </tr>\n",
       "  </tbody>\n",
       "</table>\n",
       "</div>"
      ],
      "text/plain": [
       "   id  pressure\n",
       "0   1  6.085704\n",
       "1   2  6.132731\n",
       "2   3  6.970800\n",
       "3   4  7.982039\n",
       "4   5  9.076621"
      ]
     },
     "execution_count": 22,
     "metadata": {},
     "output_type": "execute_result"
    }
   ],
   "source": [
    "prediction.head()"
   ]
  }
 ],
 "metadata": {
  "kernelspec": {
   "display_name": "Python 3",
   "language": "python",
   "name": "python3"
  },
  "language_info": {
   "codemirror_mode": {
    "name": "ipython",
    "version": 3
   },
   "file_extension": ".py",
   "mimetype": "text/x-python",
   "name": "python",
   "nbconvert_exporter": "python",
   "pygments_lexer": "ipython3",
   "version": "3.7.10"
  },
  "papermill": {
   "default_parameters": {},
   "duration": 4670.639219,
   "end_time": "2021-11-01T08:04:01.798733",
   "environment_variables": {},
   "exception": null,
   "input_path": "__notebook__.ipynb",
   "output_path": "__notebook__.ipynb",
   "parameters": {},
   "start_time": "2021-11-01T06:46:11.159514",
   "version": "2.3.3"
  }
 },
 "nbformat": 4,
 "nbformat_minor": 5
}
